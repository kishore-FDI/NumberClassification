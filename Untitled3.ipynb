{
  "nbformat": 4,
  "nbformat_minor": 0,
  "metadata": {
    "colab": {
      "provenance": [],
      "gpuType": "T4"
    },
    "kernelspec": {
      "name": "python3",
      "display_name": "Python 3"
    },
    "language_info": {
      "name": "python"
    },
    "accelerator": "GPU"
  },
  "cells": [
    {
      "cell_type": "code",
      "execution_count": 2,
      "metadata": {
        "id": "TFPcrAWo808H"
      },
      "outputs": [],
      "source": [
        "# Import necessary libraries\n",
        "import numpy as np\n",
        "import matplotlib.pyplot as plt\n",
        "from sklearn.model_selection import train_test_split\n",
        "from sklearn.metrics import accuracy_score, classification_report\n",
        "from sklearn.linear_model import LogisticRegression\n",
        "from sklearn.svm import SVC\n",
        "from sklearn.ensemble import RandomForestClassifier\n",
        "from sklearn.neighbors import KNeighborsClassifier\n",
        "from sklearn.neural_network import MLPClassifier\n",
        "from tensorflow import keras\n",
        "from tensorflow.keras.models import Sequential\n",
        "from tensorflow.keras.layers import Dense, Flatten\n",
        "from tensorflow.keras.utils import to_categorical\n",
        "from sklearn.datasets import fetch_openml\n",
        "import pandas\n",
        "from sklearn.metrics import confusion_matrix"
      ]
    },
    {
      "cell_type": "code",
      "source": [
        "mnist = fetch_openml('mnist_784',parser='auto')\n",
        "X, y = mnist.data, mnist.target.astype(int)\n",
        "\n",
        "# Split the dataset into training and testing sets\n",
        "X_train, X_test, y_train, y_test = train_test_split(X, y, test_size=0.2, random_state=42)\n",
        "\n",
        "# Data preprocessing: normalize and scale the features\n",
        "X_train = X_train / 255.0\n",
        "X_test = X_test / 255.0"
      ],
      "metadata": {
        "id": "XXr3y0ms8_dl"
      },
      "execution_count": 3,
      "outputs": []
    },
    {
      "cell_type": "code",
      "source": [
        "lr_model = LogisticRegression(max_iter=10)\n",
        "lr_model.fit(X_train, y_train)\n",
        "y_pred_lr = lr_model.predict(X_test)\n",
        "lr_accuracy = accuracy_score(y_test, y_pred_lr)\n",
        "print(\"Logistic Regression Accuracy:\", lr_accuracy)\n",
        "print(classification_report(y_test, y_pred_lr))\n"
      ],
      "metadata": {
        "colab": {
          "base_uri": "https://localhost:8080/"
        },
        "id": "tvpu6CLm9ZPH",
        "outputId": "1ba0cb43-bf07-4c66-990e-c5cb8fae7717"
      },
      "execution_count": 6,
      "outputs": [
        {
          "output_type": "stream",
          "name": "stderr",
          "text": [
            "/usr/local/lib/python3.10/dist-packages/sklearn/linear_model/_logistic.py:458: ConvergenceWarning: lbfgs failed to converge (status=1):\n",
            "STOP: TOTAL NO. of ITERATIONS REACHED LIMIT.\n",
            "\n",
            "Increase the number of iterations (max_iter) or scale the data as shown in:\n",
            "    https://scikit-learn.org/stable/modules/preprocessing.html\n",
            "Please also refer to the documentation for alternative solver options:\n",
            "    https://scikit-learn.org/stable/modules/linear_model.html#logistic-regression\n",
            "  n_iter_i = _check_optimize_result(\n"
          ]
        },
        {
          "output_type": "stream",
          "name": "stdout",
          "text": [
            "Logistic Regression Accuracy: 0.8748571428571429\n",
            "              precision    recall  f1-score   support\n",
            "\n",
            "           0       0.92      0.95      0.93      1343\n",
            "           1       0.93      0.94      0.94      1600\n",
            "           2       0.86      0.84      0.85      1380\n",
            "           3       0.84      0.85      0.85      1433\n",
            "           4       0.89      0.86      0.88      1295\n",
            "           5       0.82      0.80      0.81      1273\n",
            "           6       0.90      0.92      0.91      1396\n",
            "           7       0.91      0.89      0.90      1503\n",
            "           8       0.83      0.81      0.82      1357\n",
            "           9       0.83      0.87      0.85      1420\n",
            "\n",
            "    accuracy                           0.87     14000\n",
            "   macro avg       0.87      0.87      0.87     14000\n",
            "weighted avg       0.87      0.87      0.87     14000\n",
            "\n"
          ]
        }
      ]
    },
    {
      "cell_type": "code",
      "source": [
        "svm_model = SVC(max_iter=10)\n",
        "svm_model.fit(X_train, y_train)\n",
        "y_pred_svm = svm_model.predict(X_test)\n",
        "svm_accuracy = accuracy_score(y_test, y_pred_svm)\n",
        "print(\"SVM Accuracy:\", svm_accuracy)\n",
        "print(classification_report(y_test, y_pred_svm))"
      ],
      "metadata": {
        "colab": {
          "base_uri": "https://localhost:8080/"
        },
        "id": "_rBKb03M963Y",
        "outputId": "2ecffd83-0ac3-4be9-b2c4-43251088d0f8"
      },
      "execution_count": 7,
      "outputs": [
        {
          "output_type": "stream",
          "name": "stderr",
          "text": [
            "/usr/local/lib/python3.10/dist-packages/sklearn/svm/_base.py:299: ConvergenceWarning: Solver terminated early (max_iter=10).  Consider pre-processing your data with StandardScaler or MinMaxScaler.\n",
            "  warnings.warn(\n"
          ]
        },
        {
          "output_type": "stream",
          "name": "stdout",
          "text": [
            "SVM Accuracy: 0.6639285714285714\n",
            "              precision    recall  f1-score   support\n",
            "\n",
            "           0       0.87      0.97      0.91      1343\n",
            "           1       0.76      0.69      0.72      1600\n",
            "           2       0.45      0.76      0.56      1380\n",
            "           3       0.62      0.70      0.66      1433\n",
            "           4       0.64      0.74      0.69      1295\n",
            "           5       0.80      0.38      0.52      1273\n",
            "           6       0.90      0.52      0.66      1396\n",
            "           7       0.75      0.82      0.78      1503\n",
            "           8       0.56      0.57      0.56      1357\n",
            "           9       0.57      0.47      0.52      1420\n",
            "\n",
            "    accuracy                           0.66     14000\n",
            "   macro avg       0.69      0.66      0.66     14000\n",
            "weighted avg       0.69      0.66      0.66     14000\n",
            "\n"
          ]
        }
      ]
    },
    {
      "cell_type": "code",
      "source": [
        "rf_model = RandomForestClassifier()\n",
        "rf_model.fit(X_train, y_train)\n",
        "y_pred_rf = rf_model.predict(X_test)\n",
        "rf_accuracy = accuracy_score(y_test, y_pred_rf)\n",
        "print(\"Random Forest Accuracy:\", rf_accuracy)\n",
        "print(classification_report(y_test, y_pred_rf))"
      ],
      "metadata": {
        "colab": {
          "base_uri": "https://localhost:8080/"
        },
        "id": "pBa6zJNn97qz",
        "outputId": "fb0e5c64-79dd-4def-b44b-cbe167fd2213"
      },
      "execution_count": 9,
      "outputs": [
        {
          "output_type": "stream",
          "name": "stdout",
          "text": [
            "Random Forest Accuracy: 0.9679285714285715\n",
            "              precision    recall  f1-score   support\n",
            "\n",
            "           0       0.99      0.99      0.99      1343\n",
            "           1       0.98      0.99      0.99      1600\n",
            "           2       0.95      0.97      0.96      1380\n",
            "           3       0.97      0.95      0.96      1433\n",
            "           4       0.96      0.97      0.97      1295\n",
            "           5       0.97      0.96      0.96      1273\n",
            "           6       0.98      0.98      0.98      1396\n",
            "           7       0.97      0.97      0.97      1503\n",
            "           8       0.96      0.96      0.96      1357\n",
            "           9       0.96      0.95      0.96      1420\n",
            "\n",
            "    accuracy                           0.97     14000\n",
            "   macro avg       0.97      0.97      0.97     14000\n",
            "weighted avg       0.97      0.97      0.97     14000\n",
            "\n"
          ]
        }
      ]
    },
    {
      "cell_type": "code",
      "source": [
        "knn_model = KNeighborsClassifier(n_neighbors=3)\n",
        "knn_model.fit(X_train, y_train)\n",
        "y_pred_knn = knn_model.predict(X_test)\n",
        "knn_accuracy = accuracy_score(y_test, y_pred_knn)\n",
        "print(\"K-Nearest Neighbors Accuracy:\", knn_accuracy)\n",
        "print(classification_report(y_test, y_pred_knn))"
      ],
      "metadata": {
        "colab": {
          "base_uri": "https://localhost:8080/"
        },
        "id": "ifPVTwVG-CQ6",
        "outputId": "b4f7f0a4-f4db-43b2-859e-34651098fa4e"
      },
      "execution_count": 10,
      "outputs": [
        {
          "output_type": "stream",
          "name": "stdout",
          "text": [
            "K-Nearest Neighbors Accuracy: 0.9712857142857143\n",
            "              precision    recall  f1-score   support\n",
            "\n",
            "           0       0.98      0.99      0.98      1343\n",
            "           1       0.96      0.99      0.98      1600\n",
            "           2       0.97      0.97      0.97      1380\n",
            "           3       0.97      0.96      0.97      1433\n",
            "           4       0.97      0.96      0.97      1295\n",
            "           5       0.98      0.97      0.97      1273\n",
            "           6       0.98      0.99      0.99      1396\n",
            "           7       0.97      0.98      0.97      1503\n",
            "           8       0.99      0.94      0.96      1357\n",
            "           9       0.96      0.95      0.96      1420\n",
            "\n",
            "    accuracy                           0.97     14000\n",
            "   macro avg       0.97      0.97      0.97     14000\n",
            "weighted avg       0.97      0.97      0.97     14000\n",
            "\n"
          ]
        }
      ]
    },
    {
      "cell_type": "code",
      "source": [
        "y_train_categorical = to_categorical(y_train, num_classes=10)\n",
        "y_test_categorical = to_categorical(y_test, num_classes=10)\n",
        "\n",
        "model = Sequential()\n",
        "model.add(Flatten(input_shape=(784,)))\n",
        "model.add(Dense(128, activation='relu'))\n",
        "model.add(Dense(64, activation='relu'))\n",
        "model.add(Dense(10, activation='softmax'))\n",
        "\n",
        "model.compile(optimizer='adam', loss='categorical_crossentropy', metrics=['accuracy'])\n",
        "model.fit(X_train, y_train_categorical, epochs=5, batch_size=64)\n",
        "\n",
        "# Evaluate the MLP model\n",
        "mlp_accuracy = model.evaluate(X_test, y_test_categorical, verbose=0)[1]\n",
        "print(\"MLP Neural Network Accuracy:\", mlp_accuracy)\n"
      ],
      "metadata": {
        "colab": {
          "base_uri": "https://localhost:8080/"
        },
        "id": "yQ_b6J7n-KP4",
        "outputId": "4b2a9dcb-452d-4ca7-8e81-3fd3832d0860"
      },
      "execution_count": 11,
      "outputs": [
        {
          "output_type": "stream",
          "name": "stdout",
          "text": [
            "Epoch 1/5\n",
            "875/875 [==============================] - 8s 3ms/step - loss: 0.2885 - accuracy: 0.9187\n",
            "Epoch 2/5\n",
            "875/875 [==============================] - 3s 3ms/step - loss: 0.1164 - accuracy: 0.9657\n",
            "Epoch 3/5\n",
            "875/875 [==============================] - 3s 3ms/step - loss: 0.0793 - accuracy: 0.9755\n",
            "Epoch 4/5\n",
            "875/875 [==============================] - 2s 3ms/step - loss: 0.0584 - accuracy: 0.9819\n",
            "Epoch 5/5\n",
            "875/875 [==============================] - 2s 3ms/step - loss: 0.0463 - accuracy: 0.9855\n",
            "MLP Neural Network Accuracy: 0.9730714559555054\n"
          ]
        }
      ]
    },
    {
      "cell_type": "code",
      "source": [
        "# Final comparison of all models\n",
        "models = [\"Logistic Regression\", \"SVM\", \"Random Forest\", \"K-Nearest Neighbors\", \"MLP Neural Network\"]\n",
        "accuracies = [lr_accuracy, svm_accuracy, rf_accuracy, knn_accuracy, mlp_accuracy]\n",
        "\n",
        "plt.bar(models, accuracies)\n",
        "plt.xlabel('Classification Algorithm')\n",
        "plt.ylabel('Accuracy')\n",
        "plt.title('Accuracy of Classification Algorithms')\n",
        "plt.show()"
      ],
      "metadata": {
        "colab": {
          "base_uri": "https://localhost:8080/",
          "height": 472
        },
        "id": "abKZ_6d8-LFr",
        "outputId": "705cdb98-0f9c-4fa6-9b20-dd4cffc76f43"
      },
      "execution_count": 12,
      "outputs": [
        {
          "output_type": "display_data",
          "data": {
            "text/plain": [
              "<Figure size 640x480 with 1 Axes>"
            ],
            "image/png": "[encoded data removed]"
          },
          "metadata": {}
        }
      ]
    },
    {
      "cell_type": "markdown",
      "source": [
        "***Therefore in conclusion from the algorithms i used , performed better than the others to solve the classic number classification problem***"
      ],
      "metadata": {
        "id": "TAUnmOTi-QvP"
      }
    }
  ]
}